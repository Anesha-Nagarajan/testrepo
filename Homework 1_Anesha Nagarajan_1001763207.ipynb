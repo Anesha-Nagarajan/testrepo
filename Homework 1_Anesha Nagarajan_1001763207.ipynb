{
 "cells": [
  {
   "cell_type": "markdown",
   "metadata": {},
   "source": [
    "1.Implement a program that requests three strings from the user. Your program should concatenate the first two strings (string1 + string2) and compare the concatenated string with the third string. If they are equal, your program should print “They are equal”, otherwise, the program should concatenate the two strings in the reverse order (string2 + string1) and compare it with the third string and print “They are also equal”. If this second test also fails, your program should print “They are not equal”. A partial sample run is shown below:"
   ]
  },
  {
   "cell_type": "code",
   "execution_count": null,
   "metadata": {},
   "outputs": [],
   "source": [
    "#Step 1 :asking for user inputs for the strings\n",
    "\n",
    "x=input('Enter the string 1:')\n",
    "y=input('Enter the string 2:')\n",
    "z=input('Enter the string 3:')\n",
    "\n",
    "#Step 2 ood\n",
    ":checking for condition to satisfy any one of them\n",
    "\n",
    "if x+y==z:\n",
    "    print ('They are Equal!')\n",
    "elif y+x==z:\n",
    "    print('They are also Equal!')\n",
    "else:\n",
    "    print('They are not equal')"
   ]
  },
  {
   "cell_type": "markdown",
   "metadata": {},
   "source": [
    "2.Write a Python program that reads in 3 integers or 4 integers (user first determines 3 or 4 integers) and displays the following:\n",
    "the average of the numbers (round to the closest integer, use < .5 to round down and >= .5 to round up )\n",
    "the maximum of the numbers\n",
    "the minimum of the numbers\n",
    "the median of the numbers. Note that if there was 2 numbers that qualify for the median, you will calculate and display the mean of the 2 numbers (round to the closest integer, use < .5 to round down and >= .5 to round up )"
   ]
  },
  {
   "cell_type": "code",
   "execution_count": null,
   "metadata": {},
   "outputs": [],
   "source": [
    "import statistics \n",
    "\n",
    "#Step 1 :defined a function for looping the input\n",
    "\n",
    "def input_number():\n",
    "    NumberofList=input('Enter set of 3 or 4 integers:')\n",
    "    validate_number(NumberofList)\n",
    "\n",
    "#Step 2 :defined another function to check with the set of integers \n",
    "\n",
    "def validate_number(NumberofList):\n",
    "    \n",
    "        if NumberofList == '3':\n",
    "            \n",
    "#Step 3 :getting inputs for the set of 3 integers\n",
    "\n",
    "            first=float(input('Enter first number:'))\n",
    "            second=float(input('Enter second number:'))\n",
    "            third=float(input('Enter third number:'))\n",
    "\n",
    "#Step 4 :performing function as mentioned in the question\n",
    "\n",
    "            lst=[first,second,third]\n",
    "            Average=(sum(lst)/len(lst))\n",
    "            print('The average of the three numbers is: ',round(Average))\n",
    "\n",
    "            Maximum=max(lst)\n",
    "            print('The maximum of the three numbers is: ',int(Maximum))\n",
    "\n",
    "            Minimum=min(lst)\n",
    "            print('The minimum of the three numbers is: ',int(Minimum))\n",
    "\n",
    "            Median=statistics.median(lst)\n",
    "            print('The median of the three numbers is: ',round(Median))\n",
    "\n",
    "   \n",
    "        elif NumberofList == '4':\n",
    "\n",
    "#getting inputs for the set of 4 integers\n",
    "\n",
    "            first=float(input('Enter first number:'))\n",
    "            second=float(input('Enter second number:'))\n",
    "            third=float(input('Enter third number:'))\n",
    "            fourth=float(input('Enter fourth number:'))\n",
    "\n",
    "#performing function as mentioned in the question\n",
    "\n",
    "            lst=[first,second,third,fourth]\n",
    "            Average=(sum(lst)/len(lst))\n",
    "            print('The average of the four numbers is: ',round(Average))\n",
    "\n",
    "            Maximum=max(lst)\n",
    "            print('The maximum of the four numbers is: ',int(Maximum))\n",
    "\n",
    "            Minimum=min(lst)\n",
    "            print('The minimum of the four numbers is: ',int(Minimum))\n",
    "\n",
    "            Median=statistics.median(lst)\n",
    "            print('The median of the four numbers is: ',round(Median))\n",
    "\n",
    "#looping if it is an invalid entry\n",
    "\n",
    "        elif NumberofList != '3' or NumberofList != '4':\n",
    "            print(\" Invalid Entry . Please enter only valid integer either 3 or 4:\")\n",
    "            input_number()\n",
    "\n",
    "\n",
    "input_number()"
   ]
  },
  {
   "cell_type": "markdown",
   "metadata": {},
   "source": [
    "3.A number that is greater than 1 that is not a prime number is called a composite number. An integer, greater than 1, that is only divisible by 1 and itself is called a prime number. The integers 0 and 1 are neither prime nor composite. Write a python program that requests a positive integer from the user, determines if it is a composite, a prime or neither prime or composite and prints the message. You can choose to use iterative loops to repeatedly run this script or have the user run the script for every input. Please specify instructions on which method you are using to run the code in markdown language above the code cell."
   ]
  },
  {
   "cell_type": "code",
   "execution_count": null,
   "metadata": {},
   "outputs": [],
   "source": [
    "\n",
    "#Step 1 : defining a function for looping till valid input\n",
    "\n",
    "def valid_input():\n",
    "    PositiveInteger=input('Enter a positive number:')\n",
    "    try:\n",
    "        if type(int(PositiveInteger)) == int:\n",
    "            return Type_of_Integer(PositiveInteger)\n",
    "    except:\n",
    "        print('Invalid entry')\n",
    "        valid_input()\n",
    "\n",
    "\n",
    "#Step 2: defining the function to check an integer prime or composite\n",
    "\n",
    "def Type_of_Integer(PositiveInteger):\n",
    "    PositiveInteger=int(PositiveInteger)\n",
    "    if (PositiveInteger>=0):\n",
    "        if (PositiveInteger==0) or (PositiveInteger==1):\n",
    "            print('It is neither prime nor composite')\n",
    "            valid_input()\n",
    "        elif (PositiveInteger>1):\n",
    "            for i in range(2, PositiveInteger):\n",
    "                if (PositiveInteger % i == 0):\n",
    "                    print('It is a composite number')\n",
    "                    valid_input()\n",
    "                    break\n",
    "            else:\n",
    "                print('It is a prime number')\n",
    "                valid_input()\n",
    "    else:\n",
    "        print('Invalid Entry')\n",
    "        valid_input()\n",
    "            \n",
    "valid_input()"
   ]
  },
  {
   "cell_type": "markdown",
   "metadata": {},
   "source": [
    "4.Implement a Python function called SmartDivision() that takes two integer arguments. Your function should return the result of the division of the two integers. If the result is an integer, the return type should be an integer. If the result is a floating point number, the return type should be a floating point number.\n",
    " \n",
    "\n",
    "Write a main program that requests the two integers (perform error checking for non-integer inputs). Also in the main program you should call your defined function SmartDivision() that takes 2 arguments and display the result of the division and the return type.\n",
    "\n",
    " \n",
    "\n",
    "Write your function definition in one cell and the function calling main program below it or in a different cell in Jupyter Notebook. I will be testing this program by modifying your program that calls this function."
   ]
  },
  {
   "cell_type": "code",
   "execution_count": 1,
   "metadata": {},
   "outputs": [
    {
     "name": "stdout",
     "output_type": "stream",
     "text": [
      "Please enter an integer:\n",
      "Invalid entry.\n",
      "Please enter an integer8\n"
     ]
    },
    {
     "data": {
      "text/plain": [
       "8"
      ]
     },
     "execution_count": 1,
     "metadata": {},
     "output_type": "execute_result"
    }
   ],
   "source": [
    "#Step 1 :validating the functions with input as integer\n",
    "\n",
    "def valid_integers():\n",
    "    integer=input('Please enter an integer:')\n",
    "    while(True):\n",
    "        try:\n",
    "            value=int(integer)\n",
    "            return value\n",
    "        except:\n",
    "            print('Invalid entry.')\n",
    "            integer=input('Please enter an integer')\n",
    "\n",
    "valid_integers()"
   ]
  },
  {
   "cell_type": "code",
   "execution_count": 2,
   "metadata": {},
   "outputs": [],
   "source": [
    "#Step 2: defining funtion to perform some expressions\n",
    "\n",
    "def SmartDivision():\n",
    "    x=valid_integers()\n",
    "    y=valid_integers()\n",
    "    if x%y==0:\n",
    "        return int(x/y)\n",
    "    else:\n",
    "        return (x/y)"
   ]
  },
  {
   "cell_type": "code",
   "execution_count": 3,
   "metadata": {},
   "outputs": [
    {
     "name": "stdout",
     "output_type": "stream",
     "text": [
      "Please enter an integer:7\n",
      "Please enter an integer:098\n"
     ]
    },
    {
     "data": {
      "text/plain": [
       "0.07142857142857142"
      ]
     },
     "execution_count": 3,
     "metadata": {},
     "output_type": "execute_result"
    }
   ],
   "source": [
    "#Step 3 : calling the above function give inputs as integers only\n",
    "\n",
    "SmartDivision()"
   ]
  },
  {
   "cell_type": "markdown",
   "metadata": {},
   "source": [
    "5.Write a program that takes as input two opposite corners of a rectangle: (x1,y1) and (x2,y2) – float or integer only. Finally, the user is prompted for the coordinates of a third point (x,y). The program should print Boolean value True or False based on whether the point (x,y) lies within the rectangle. At the end of each run, the user should be prompted to ask whether they want to continue.\n",
    "Note that the rectangle could fall anywhere in the 2X2 plane of real numbers."
   ]
  },
  {
   "cell_type": "code",
   "execution_count": 4,
   "metadata": {},
   "outputs": [
    {
     "name": "stdout",
     "output_type": "stream",
     "text": [
      "Please enter an integer or float coordinates:3\n"
     ]
    },
    {
     "data": {
      "text/plain": [
       "3.0"
      ]
     },
     "execution_count": 4,
     "metadata": {},
     "output_type": "execute_result"
    }
   ],
   "source": [
    "#Step 1: defining a function which takes all the coordinates and validate\n",
    "\n",
    "def valid_coordinates():\n",
    "    coordinates=input('Please enter an integer or float coordinates:')\n",
    "    while(True):\n",
    "        try:\n",
    "            value=float(coordinates)\n",
    "            return value\n",
    "        except:\n",
    "            print('Invalid entry.')\n",
    "            coordinates=input('Please enter an integer or float coordinates:')\n",
    "\n",
    "valid_coordinates()"
   ]
  },
  {
   "cell_type": "code",
   "execution_count": null,
   "metadata": {},
   "outputs": [
    {
     "name": "stdout",
     "output_type": "stream",
     "text": [
      "Enter the first coordinates (x1,y1):\n",
      "Please enter an integer or float coordinates:2\n",
      "Please enter an integer or float coordinates:3\n",
      "Enter the second coordinates (x2,y2):\n",
      "Please enter an integer or float coordinates:4\n",
      "Please enter an integer or float coordinates:6\n",
      "Enter the coordinates to check (x,y):\n",
      "Please enter an integer or float coordinates:7\n",
      "Please enter an integer or float coordinates:4\n",
      "False\n",
      "Do you want to continue?:y\n",
      "Enter the first coordinates (x1,y1):\n"
     ]
    }
   ],
   "source": [
    "import statistics\n",
    "\n",
    "# Step 2: defining function to check the coordinates lie inside the rectangle\n",
    "\n",
    "def rectangle():\n",
    "\n",
    "    print('Enter the first coordinates (x1,y1):')\n",
    "\n",
    "    x1=valid_coordinates()\n",
    "    y1=valid_coordinates()\n",
    "\n",
    "    print('Enter the second coordinates (x2,y2):')\n",
    "\n",
    "    x2=valid_coordinates()\n",
    "    y2=valid_coordinates()\n",
    "\n",
    "    x1=min(x1,x2)\n",
    "    x2=max(x1,x2)\n",
    "    y1=min(y1,y2)\n",
    "    y2=max(y1,y2)\n",
    "\n",
    "    print('Enter the coordinates to check (x,y):')\n",
    "    x=valid_coordinates()\n",
    "    y=valid_coordinates()\n",
    "    \n",
    "\n",
    "    if(x1<=x<=x2) and (y1<=y<=y2):\n",
    "        print('True')\n",
    "    else:\n",
    "        print('False')\n",
    "    \n",
    "    Continue_Input=input('Do you want to continue?:')\n",
    "    if (Continue_Input=='Y') or (Continue_Input=='y'):\n",
    "        rectangle()\n",
    "    else:\n",
    "        print('Goodbye!')\n",
    "\n",
    "rectangle()"
   ]
  },
  {
   "cell_type": "code",
   "execution_count": null,
   "metadata": {},
   "outputs": [],
   "source": []
  }
 ],
 "metadata": {
  "kernelspec": {
   "display_name": "Python 3",
   "language": "python",
   "name": "python3"
  },
  "language_info": {
   "codemirror_mode": {
    "name": "ipython",
    "version": 3
   },
   "file_extension": ".py",
   "mimetype": "text/x-python",
   "name": "python",
   "nbconvert_exporter": "python",
   "pygments_lexer": "ipython3",
   "version": "3.8.5"
  }
 },
 "nbformat": 4,
 "nbformat_minor": 4
}
